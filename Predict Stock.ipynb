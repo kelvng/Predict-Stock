{
  "cells": [
    {
      "cell_type": "markdown",
      "metadata": {
        "id": "gKDzAqOqHBMl"
      },
      "source": [
        "## Import Library"
      ]
    },
    {
      "cell_type": "code",
      "execution_count": 57,
      "metadata": {
        "id": "5aFTKNn7JMNN"
      },
      "outputs": [],
      "source": [
        "import pandas as pd\n",
        "import matplotlib.pyplot as plt\n",
        "import numpy as np\n",
        "import tensorflow as tf\n",
        "from tensorflow import keras\n",
        "from tensorflow.keras.models import load_model\n",
        "import seaborn as sns\n",
        "import os\n",
        "from datetime import datetime, timedelta\n",
        "import warnings\n",
        "warnings.filterwarnings(\"ignore\")\n",
        "plt.style.use('fivethirtyeight')"
      ]
    },
    {
      "cell_type": "markdown",
      "metadata": {
        "id": "7NtSiqlzJ2e6"
      },
      "source": [
        "## Read data"
      ]
    },
    {
      "cell_type": "code",
      "execution_count": 58,
      "metadata": {
        "colab": {
          "base_uri": "https://localhost:8080/"
        },
        "id": "O8OtmLlbMbdX",
        "outputId": "00f99af1-b93a-45ed-8b26-66cc74afad5f"
      },
      "outputs": [
        {
          "name": "stdout",
          "output_type": "stream",
          "text": [
            "(101266, 8)\n",
            "      Ticker         Date/Time   Open   High    Low  Close  Volume  \\\n",
            "76833    VIC     7/2/2020 9:34   90.3   90.3   90.3   90.3     250   \n",
            "81680    VIC    8/5/2020 13:29   88.0   88.0   88.0   88.0      10   \n",
            "10128    VIC     1/9/2019 9:34  101.4  101.4  100.1  100.1     830   \n",
            "77325    VIC    7/6/2020 11:24   91.4   91.4   90.6   90.6      50   \n",
            "9184     VIC  12/28/2018 10:41  102.5  102.8  102.5  102.8      20   \n",
            "60892    VIC   3/11/2020 11:06   96.4   96.5   96.4   96.4    2980   \n",
            "17802    VIC   3/15/2019 10:14  118.8  118.8  118.7  118.8     220   \n",
            "\n",
            "       Open Interest  \n",
            "76833              0  \n",
            "81680              0  \n",
            "10128              0  \n",
            "77325              0  \n",
            "9184               0  \n",
            "60892              0  \n",
            "17802              0  \n"
          ]
        }
      ],
      "source": [
        "data = pd.read_csv('VIC.csv')\n",
        "\n",
        "print(data.shape)\n",
        "print(data.sample(7))"
      ]
    },
    {
      "cell_type": "markdown",
      "metadata": {
        "id": "Lup3IEiOHLzM"
      },
      "source": [
        "## Preprocessing data"
      ]
    },
    {
      "cell_type": "code",
      "execution_count": 59,
      "metadata": {
        "colab": {
          "base_uri": "https://localhost:8080/"
        },
        "id": "xWJ8c_VjOxUx",
        "outputId": "1f18c78b-81c9-4fe3-c2b6-7e3abe2afac5"
      },
      "outputs": [
        {
          "name": "stdout",
          "output_type": "stream",
          "text": [
            "<class 'pandas.core.frame.DataFrame'>\n",
            "RangeIndex: 101266 entries, 0 to 101265\n",
            "Data columns (total 8 columns):\n",
            " #   Column         Non-Null Count   Dtype  \n",
            "---  ------         --------------   -----  \n",
            " 0   Ticker         101266 non-null  object \n",
            " 1   Date/Time      101266 non-null  object \n",
            " 2   Open           101266 non-null  float64\n",
            " 3   High           101266 non-null  float64\n",
            " 4   Low            101266 non-null  float64\n",
            " 5   Close          101266 non-null  float64\n",
            " 6   Volume         101266 non-null  int64  \n",
            " 7   Open Interest  101266 non-null  int64  \n",
            "dtypes: float64(4), int64(2), object(2)\n",
            "memory usage: 6.2+ MB\n"
          ]
        }
      ],
      "source": [
        "data.info()"
      ]
    },
    {
      "cell_type": "markdown",
      "metadata": {
        "id": "rMTtAPf7IxPT"
      },
      "source": [
        "Conver Dtype Column['Date/Time'] from object to datetime "
      ]
    },
    {
      "cell_type": "code",
      "execution_count": 60,
      "metadata": {
        "colab": {
          "base_uri": "https://localhost:8080/"
        },
        "id": "TNKsCmIlO0zL",
        "outputId": "40b00e59-5044-40f9-987b-08c9e2a466d5"
      },
      "outputs": [
        {
          "name": "stdout",
          "output_type": "stream",
          "text": [
            "<class 'pandas.core.frame.DataFrame'>\n",
            "RangeIndex: 101266 entries, 0 to 101265\n",
            "Data columns (total 8 columns):\n",
            " #   Column         Non-Null Count   Dtype         \n",
            "---  ------         --------------   -----         \n",
            " 0   Ticker         101266 non-null  object        \n",
            " 1   Date/Time      101266 non-null  datetime64[ns]\n",
            " 2   Open           101266 non-null  float64       \n",
            " 3   High           101266 non-null  float64       \n",
            " 4   Low            101266 non-null  float64       \n",
            " 5   Close          101266 non-null  float64       \n",
            " 6   Volume         101266 non-null  int64         \n",
            " 7   Open Interest  101266 non-null  int64         \n",
            "dtypes: datetime64[ns](1), float64(4), int64(2), object(1)\n",
            "memory usage: 6.2+ MB\n"
          ]
        }
      ],
      "source": [
        "data['Date/Time'] = pd.to_datetime(data['Date/Time'])\n",
        "data.info()"
      ]
    },
    {
      "cell_type": "markdown",
      "metadata": {
        "id": "5g7LKdi4JJkU"
      },
      "source": [
        "Delete Column['Open Interest']"
      ]
    },
    {
      "cell_type": "code",
      "execution_count": 61,
      "metadata": {
        "id": "2rjZBLXd1A9S"
      },
      "outputs": [],
      "source": [
        "data = data.drop(['Open Interest'], axis=1)"
      ]
    },
    {
      "cell_type": "code",
      "execution_count": 62,
      "metadata": {
        "colab": {
          "base_uri": "https://localhost:8080/"
        },
        "id": "Wt1huDRI1oHR",
        "outputId": "c35d02f5-38f7-44a9-964d-dd3d7a2cdcc8"
      },
      "outputs": [
        {
          "name": "stdout",
          "output_type": "stream",
          "text": [
            "<class 'pandas.core.frame.DataFrame'>\n",
            "RangeIndex: 101266 entries, 0 to 101265\n",
            "Data columns (total 7 columns):\n",
            " #   Column     Non-Null Count   Dtype         \n",
            "---  ------     --------------   -----         \n",
            " 0   Ticker     101266 non-null  object        \n",
            " 1   Date/Time  101266 non-null  datetime64[ns]\n",
            " 2   Open       101266 non-null  float64       \n",
            " 3   High       101266 non-null  float64       \n",
            " 4   Low        101266 non-null  float64       \n",
            " 5   Close      101266 non-null  float64       \n",
            " 6   Volume     101266 non-null  int64         \n",
            "dtypes: datetime64[ns](1), float64(4), int64(1), object(1)\n",
            "memory usage: 5.4+ MB\n"
          ]
        }
      ],
      "source": [
        "data.info()"
      ]
    },
    {
      "cell_type": "code",
      "execution_count": 63,
      "metadata": {
        "colab": {
          "base_uri": "https://localhost:8080/"
        },
        "id": "VP6rSSb6PQ8N",
        "outputId": "b8419af2-f662-4e5c-ade3-2927d09ea3f6"
      },
      "outputs": [
        {
          "data": {
            "text/plain": [
              "Ticker       0\n",
              "Date/Time    0\n",
              "Open         0\n",
              "High         0\n",
              "Low          0\n",
              "Close        0\n",
              "Volume       0\n",
              "dtype: int64"
            ]
          },
          "execution_count": 63,
          "metadata": {},
          "output_type": "execute_result"
        }
      ],
      "source": [
        "data.isnull().sum()"
      ]
    },
    {
      "cell_type": "markdown",
      "metadata": {
        "id": "za5p-naVPYFR"
      },
      "source": [
        "This implies that there are no null values in the data set provided.\n",
        "\n"
      ]
    },
    {
      "cell_type": "markdown",
      "metadata": {
        "id": "qV9pztFAJo4Q"
      },
      "source": [
        "## Data Analyst\n",
        "\n"
      ]
    },
    {
      "cell_type": "code",
      "execution_count": 64,
      "metadata": {
        "colab": {
          "base_uri": "https://localhost:8080/",
          "height": 380
        },
        "id": "iiGH_GxUez4t",
        "outputId": "230c45f9-43b5-48ed-ef36-719000b04747"
      },
      "outputs": [
        {
          "data": {
            "image/png": "[encoded data removed]",
            "text/plain": [
              "<Figure size 1080x360 with 1 Axes>"
            ]
          },
          "metadata": {},
          "output_type": "display_data"
        }
      ],
      "source": [
        "plt.figure(figsize=(15,5))\n",
        "plt.plot(data['Date/Time'], data['Close'])\n",
        "plt.title('Close price', fontsize=15)\n",
        "plt.xlabel('Date')\n",
        "plt.ylabel('Price in dollars')\n",
        "plt.show()"
      ]
    },
    {
      "cell_type": "code",
      "execution_count": 65,
      "metadata": {
        "colab": {
          "base_uri": "https://localhost:8080/",
          "height": 606
        },
        "id": "dZMWcJrNMzqe",
        "outputId": "2947cca6-0e2c-48cd-bc80-6d0235766d75"
      },
      "outputs": [
        {
          "data": {
            "image/png": "[encoded data removed]",
            "text/plain": [
              "<Figure size 1440x720 with 4 Axes>"
            ]
          },
          "metadata": {},
          "output_type": "display_data"
        }
      ],
      "source": [
        "data['Year'] = data['Date/Time'].dt.year\n",
        "data_grouped = data.groupby('Year').mean()\n",
        "\n",
        "plt.subplots(figsize=(20, 10))\n",
        "plt.subplots_adjust(hspace=0.4, wspace=0.4)\n",
        "\n",
        "for i, col in enumerate(['Open', 'High', 'Low', 'Close']):\n",
        "    plt.subplot(2, 2, i+1)\n",
        "    data_grouped[col].plot.bar()\n",
        "    plt.title(col)\n",
        "    plt.suptitle('Average Stock Prices by Year', fontsize=20)\n",
        "    \n",
        "plt.show()"
      ]
    },
    {
      "cell_type": "markdown",
      "metadata": {
        "id": "18znL3rDJd-g"
      },
      "source": [
        "## Create training and test dataset"
      ]
    },
    {
      "cell_type": "code",
      "execution_count": 66,
      "metadata": {
        "colab": {
          "base_uri": "https://localhost:8080/"
        },
        "id": "NSph2tkg34ny",
        "outputId": "46d5ccff-91a9-4b4f-d1c9-6373e2e871e1"
      },
      "outputs": [
        {
          "name": "stdout",
          "output_type": "stream",
          "text": [
            "96203\n"
          ]
        }
      ],
      "source": [
        "dataset = data['Close'].values\n",
        "training = int(np.ceil(len(dataset) * .95))\n",
        "print(training)"
      ]
    },
    {
      "cell_type": "code",
      "execution_count": 67,
      "metadata": {
        "id": "5tumNFZh4FuD"
      },
      "outputs": [],
      "source": [
        "from sklearn.preprocessing import MinMaxScaler\n",
        "\n",
        "scaler = MinMaxScaler(feature_range=(0, 1))\n",
        "dataset = dataset.reshape(-1, 1)\n",
        "scaled_data = scaler.fit_transform(dataset)\n",
        "\n",
        "train_data = scaled_data[0:int(training), :]\n",
        "# prepare feature and labels\n",
        "x_train = []\n",
        "y_train = []\n",
        "\n",
        "for i in range(60, len(train_data)):\n",
        "\tx_train.append(train_data[i-60:i, 0])\n",
        "\ty_train.append(train_data[i, 0])\n",
        "\n",
        "x_train, y_train = np.array(x_train), np.array(y_train)\n",
        "x_train = np.reshape(x_train, (x_train.shape[0], x_train.shape[1], 1))"
      ]
    },
    {
      "cell_type": "markdown",
      "metadata": {
        "id": "ABZcjq9BKBmr"
      },
      "source": [
        "## Build Gated LSTM network using Keras"
      ]
    },
    {
      "cell_type": "code",
      "execution_count": 68,
      "metadata": {
        "colab": {
          "base_uri": "https://localhost:8080/"
        },
        "id": "CXLRvYUh4l8N",
        "outputId": "3b901816-1feb-4429-cd6f-9578a78e0793"
      },
      "outputs": [
        {
          "data": {
            "text/plain": [
              "<bound method Model.summary of <keras.engine.sequential.Sequential object at 0x7f37363f9f70>>"
            ]
          },
          "execution_count": 68,
          "metadata": {},
          "output_type": "execute_result"
        }
      ],
      "source": [
        "model = keras.models.Sequential()\n",
        "model.add(keras.layers.LSTM(units=64,\n",
        "\t\t\t\t\t\t\treturn_sequences=True,\n",
        "\t\t\t\t\t\t\tinput_shape=(x_train.shape[1], 1)))\n",
        "model.add(keras.layers.LSTM(units=64))\n",
        "model.add(keras.layers.Dense(32))\n",
        "model.add(keras.layers.Dropout(0.5))\n",
        "model.add(keras.layers.Dense(1))\n",
        "model.summary"
      ]
    },
    {
      "cell_type": "markdown",
      "metadata": {
        "id": "nXIMdi-UKn1R"
      },
      "source": [
        "## Model Compilation and Training"
      ]
    },
    {
      "cell_type": "code",
      "execution_count": 69,
      "metadata": {
        "colab": {
          "base_uri": "https://localhost:8080/"
        },
        "id": "fI-AnlSi4tBK",
        "outputId": "70e7b1bd-c13e-46ad-851c-21cfaf2c82bb"
      },
      "outputs": [
        {
          "name": "stdout",
          "output_type": "stream",
          "text": [
            "3005/3005 [==============================] - 258s 84ms/step - loss: 0.0058\n"
          ]
        }
      ],
      "source": [
        "model.compile(optimizer='adam',\n",
        "\t\t\tloss='mean_squared_error')\n",
        "history = model.fit(x_train,\n",
        "\t\t\t\t\ty_train,\n",
        "\t\t\t\t\tepochs=1)\n"
      ]
    },
    {
      "cell_type": "markdown",
      "metadata": {
        "id": "bUbCLaRYKqJm"
      },
      "source": [
        "### Save model"
      ]
    },
    {
      "cell_type": "code",
      "execution_count": 70,
      "metadata": {
        "id": "6Zobn_76uAAB"
      },
      "outputs": [],
      "source": [
        "model.save('lstm_model.h5')"
      ]
    },
    {
      "cell_type": "code",
      "execution_count": 85,
      "metadata": {
        "id": "qUQQ5f6VQCgj"
      },
      "outputs": [],
      "source": [
        "# model = load_model('lstm_model.h5')"
      ]
    },
    {
      "cell_type": "code",
      "execution_count": 86,
      "metadata": {
        "id": "YKlYboC74uKP"
      },
      "outputs": [],
      "source": [
        "test_data = scaled_data[training - 60:, :]\n",
        "x_test = []\n",
        "y_test = dataset[training:, :]\n",
        "for i in range(60, len(test_data)):\n",
        "\tx_test.append(test_data[i-60:i, 0])\n",
        "\n",
        "x_test = np.array(x_test)\n",
        "x_test = np.reshape(x_test, (x_test.shape[0], x_test.shape[1], 1))"
      ]
    },
    {
      "cell_type": "markdown",
      "metadata": {
        "id": "oVowjdleLL6N"
      },
      "source": [
        "### Predict the testing data"
      ]
    },
    {
      "cell_type": "code",
      "execution_count": 87,
      "metadata": {
        "colab": {
          "base_uri": "https://localhost:8080/"
        },
        "id": "604N6-ZCLIq9",
        "outputId": "b3b13b43-891e-4046-ef01-2de8bc8bec36"
      },
      "outputs": [
        {
          "name": "stdout",
          "output_type": "stream",
          "text": [
            "159/159 [==============================] - 4s 22ms/step\n"
          ]
        }
      ],
      "source": [
        "predictions = model.predict(x_test)\n",
        "predictions = scaler.inverse_transform(predictions)"
      ]
    },
    {
      "cell_type": "markdown",
      "metadata": {
        "id": "hvkFMHpbLVdI"
      },
      "source": [
        "### Evaluation metrics"
      ]
    },
    {
      "cell_type": "markdown",
      "metadata": {
        "id": "qeMD8X7YLhq1"
      },
      "source": [
        "`mse = np.mean(((predictions - y_test) ** 2))`: This calculates the mean squared error (MSE) between the predicted values and the true values.\n",
        "\n"
      ]
    },
    {
      "cell_type": "code",
      "execution_count": 88,
      "metadata": {
        "colab": {
          "base_uri": "https://localhost:8080/"
        },
        "id": "o1WhTfyRLKPz",
        "outputId": "e72493d1-28b5-43d8-ea92-032e867a5409"
      },
      "outputs": [
        {
          "name": "stdout",
          "output_type": "stream",
          "text": [
            "MSE 0.02576879783223384\n"
          ]
        }
      ],
      "source": [
        "mse = np.mean(((predictions - y_test) ** 2))\n",
        "print(\"MSE\", mse)"
      ]
    },
    {
      "cell_type": "markdown",
      "metadata": {
        "id": "VrWsDXSELor7"
      },
      "source": [
        "`print(\"MSE\", mse) and print(\"RMSE\", np.sqrt(mse))`: These print the MSE and the root mean squared error (RMSE) of the predictions, respectively."
      ]
    },
    {
      "cell_type": "code",
      "execution_count": 89,
      "metadata": {
        "colab": {
          "base_uri": "https://localhost:8080/"
        },
        "id": "_7M2lyoxLaTL",
        "outputId": "6ab2e77d-e3e4-46f1-b809-9f83f82566cf"
      },
      "outputs": [
        {
          "name": "stdout",
          "output_type": "stream",
          "text": [
            "RMSE 0.16052662655221359\n"
          ]
        }
      ],
      "source": [
        "print(\"RMSE\", np.sqrt(mse))"
      ]
    },
    {
      "cell_type": "markdown",
      "metadata": {
        "id": "E9CF8iJzMgdG"
      },
      "source": [
        "## Results"
      ]
    },
    {
      "cell_type": "markdown",
      "metadata": {
        "id": "wZIyHqk7Ly0c"
      },
      "source": [
        "### Visualize the final results"
      ]
    },
    {
      "cell_type": "code",
      "execution_count": 90,
      "metadata": {
        "colab": {
          "base_uri": "https://localhost:8080/",
          "height": 547
        },
        "id": "YrUdqgiheWaP",
        "outputId": "5d364e68-483f-4878-cdd8-942563e7c730"
      },
      "outputs": [
        {
          "data": {
            "image/png": "[encoded data removed]",
            "text/plain": [
              "<Figure size 1152x576 with 1 Axes>"
            ]
          },
          "metadata": {},
          "output_type": "display_data"
        }
      ],
      "source": [
        "train = data[:training]\n",
        "valid = data[training:]\n",
        "valid['Predictions'] = predictions\n",
        "#Visualize the data\n",
        "plt.figure(figsize=(16,8))\n",
        "plt.title('Model')\n",
        "plt.xlabel('Date', fontsize=18)\n",
        "plt.ylabel('Close price USD ($)', fontsize=18)\n",
        "plt.plot(train['Date/Time'], train['Close'])\n",
        "plt.plot(valid['Date/Time'], valid['Close'])\n",
        "plt.plot(valid['Date/Time'], valid['Predictions'])\n",
        "plt.legend(['Train', 'Val', 'Predictions'], loc='lower right')\n",
        "plt.show()"
      ]
    },
    {
      "cell_type": "code",
      "execution_count": 91,
      "metadata": {
        "id": "GnCgsDn2LeBE"
      },
      "outputs": [],
      "source": [
        "new_df = data.filter(['Close'])"
      ]
    },
    {
      "cell_type": "code",
      "execution_count": 92,
      "metadata": {
        "colab": {
          "base_uri": "https://localhost:8080/",
          "height": 424
        },
        "id": "1GMk14EwL0I3",
        "outputId": "065cc931-2c1b-446e-93ae-7df5d5b719fe"
      },
      "outputs": [
        {
          "data": {
            "text/html": [
              "\n",
              "  <div id=\"df-d38e0b40-806c-42ca-b341-6871251019c4\">\n",
              "    <div class=\"colab-df-container\">\n",
              "      <div>\n",
              "<style scoped>\n",
              "    .dataframe tbody tr th:only-of-type {\n",
              "        vertical-align: middle;\n",
              "    }\n",
              "\n",
              "    .dataframe tbody tr th {\n",
              "        vertical-align: top;\n",
              "    }\n",
              "\n",
              "    .dataframe thead th {\n",
              "        text-align: right;\n",
              "    }\n",
              "</style>\n",
              "<table border=\"1\" class=\"dataframe\">\n",
              "  <thead>\n",
              "    <tr style=\"text-align: right;\">\n",
              "      <th></th>\n",
              "      <th>Ticker</th>\n",
              "      <th>Date/Time</th>\n",
              "      <th>Open</th>\n",
              "      <th>High</th>\n",
              "      <th>Low</th>\n",
              "      <th>Close</th>\n",
              "      <th>Volume</th>\n",
              "      <th>Year</th>\n",
              "      <th>Predictions</th>\n",
              "    </tr>\n",
              "  </thead>\n",
              "  <tbody>\n",
              "    <tr>\n",
              "      <th>96203</th>\n",
              "      <td>VIC</td>\n",
              "      <td>2020-11-18 13:11:00</td>\n",
              "      <td>103.8</td>\n",
              "      <td>103.9</td>\n",
              "      <td>103.8</td>\n",
              "      <td>103.9</td>\n",
              "      <td>3760</td>\n",
              "      <td>2020</td>\n",
              "      <td>103.789467</td>\n",
              "    </tr>\n",
              "    <tr>\n",
              "      <th>96204</th>\n",
              "      <td>VIC</td>\n",
              "      <td>2020-11-18 13:12:00</td>\n",
              "      <td>103.9</td>\n",
              "      <td>103.9</td>\n",
              "      <td>103.9</td>\n",
              "      <td>103.9</td>\n",
              "      <td>10</td>\n",
              "      <td>2020</td>\n",
              "      <td>103.878128</td>\n",
              "    </tr>\n",
              "    <tr>\n",
              "      <th>96205</th>\n",
              "      <td>VIC</td>\n",
              "      <td>2020-11-18 13:13:00</td>\n",
              "      <td>103.9</td>\n",
              "      <td>103.9</td>\n",
              "      <td>103.5</td>\n",
              "      <td>103.5</td>\n",
              "      <td>1910</td>\n",
              "      <td>2020</td>\n",
              "      <td>103.907547</td>\n",
              "    </tr>\n",
              "    <tr>\n",
              "      <th>96206</th>\n",
              "      <td>VIC</td>\n",
              "      <td>2020-11-18 13:14:00</td>\n",
              "      <td>103.5</td>\n",
              "      <td>103.7</td>\n",
              "      <td>103.2</td>\n",
              "      <td>103.2</td>\n",
              "      <td>11610</td>\n",
              "      <td>2020</td>\n",
              "      <td>103.646584</td>\n",
              "    </tr>\n",
              "    <tr>\n",
              "      <th>96207</th>\n",
              "      <td>VIC</td>\n",
              "      <td>2020-11-18 13:15:00</td>\n",
              "      <td>103.1</td>\n",
              "      <td>103.4</td>\n",
              "      <td>103.1</td>\n",
              "      <td>103.4</td>\n",
              "      <td>7220</td>\n",
              "      <td>2020</td>\n",
              "      <td>103.338478</td>\n",
              "    </tr>\n",
              "    <tr>\n",
              "      <th>...</th>\n",
              "      <td>...</td>\n",
              "      <td>...</td>\n",
              "      <td>...</td>\n",
              "      <td>...</td>\n",
              "      <td>...</td>\n",
              "      <td>...</td>\n",
              "      <td>...</td>\n",
              "      <td>...</td>\n",
              "      <td>...</td>\n",
              "    </tr>\n",
              "    <tr>\n",
              "      <th>101261</th>\n",
              "      <td>VIC</td>\n",
              "      <td>2020-12-22 14:22:00</td>\n",
              "      <td>105.8</td>\n",
              "      <td>105.8</td>\n",
              "      <td>105.7</td>\n",
              "      <td>105.7</td>\n",
              "      <td>1870</td>\n",
              "      <td>2020</td>\n",
              "      <td>105.740517</td>\n",
              "    </tr>\n",
              "    <tr>\n",
              "      <th>101262</th>\n",
              "      <td>VIC</td>\n",
              "      <td>2020-12-22 14:23:00</td>\n",
              "      <td>105.7</td>\n",
              "      <td>105.7</td>\n",
              "      <td>105.7</td>\n",
              "      <td>105.7</td>\n",
              "      <td>2510</td>\n",
              "      <td>2020</td>\n",
              "      <td>105.674965</td>\n",
              "    </tr>\n",
              "    <tr>\n",
              "      <th>101263</th>\n",
              "      <td>VIC</td>\n",
              "      <td>2020-12-22 14:24:00</td>\n",
              "      <td>105.7</td>\n",
              "      <td>105.7</td>\n",
              "      <td>105.7</td>\n",
              "      <td>105.7</td>\n",
              "      <td>3620</td>\n",
              "      <td>2020</td>\n",
              "      <td>105.649178</td>\n",
              "    </tr>\n",
              "    <tr>\n",
              "      <th>101264</th>\n",
              "      <td>VIC</td>\n",
              "      <td>2020-12-22 14:25:00</td>\n",
              "      <td>105.7</td>\n",
              "      <td>105.7</td>\n",
              "      <td>105.7</td>\n",
              "      <td>105.7</td>\n",
              "      <td>100</td>\n",
              "      <td>2020</td>\n",
              "      <td>105.642815</td>\n",
              "    </tr>\n",
              "    <tr>\n",
              "      <th>101265</th>\n",
              "      <td>VIC</td>\n",
              "      <td>2020-12-22 14:46:00</td>\n",
              "      <td>105.7</td>\n",
              "      <td>105.7</td>\n",
              "      <td>105.7</td>\n",
              "      <td>105.7</td>\n",
              "      <td>90</td>\n",
              "      <td>2020</td>\n",
              "      <td>105.642517</td>\n",
              "    </tr>\n",
              "  </tbody>\n",
              "</table>\n",
              "<p>5063 rows × 9 columns</p>\n",
              "</div>\n",
              "      <button class=\"colab-df-convert\" onclick=\"convertToInteractive('df-d38e0b40-806c-42ca-b341-6871251019c4')\"\n",
              "              title=\"Convert this dataframe to an interactive table.\"\n",
              "              style=\"display:none;\">\n",
              "        \n",
              "  <svg xmlns=\"http://www.w3.org/2000/svg\" height=\"24px\"viewBox=\"0 0 24 24\"\n",
              "       width=\"24px\">\n",
              "    <path d=\"M0 0h24v24H0V0z\" fill=\"none\"/>\n",
              "    <path d=\"M18.56 5.44l.94 2.06.94-2.06 2.06-.94-2.06-.94-.94-2.06-.94 2.06-2.06.94zm-11 1L8.5 8.5l.94-2.06 2.06-.94-2.06-.94L8.5 2.5l-.94 2.06-2.06.94zm10 10l.94 2.06.94-2.06 2.06-.94-2.06-.94-.94-2.06-.94 2.06-2.06.94z\"/><path d=\"M17.41 7.96l-1.37-1.37c-.4-.4-.92-.59-1.43-.59-.52 0-1.04.2-1.43.59L10.3 9.45l-7.72 7.72c-.78.78-.78 2.05 0 2.83L4 21.41c.39.39.9.59 1.41.59.51 0 1.02-.2 1.41-.59l7.78-7.78 2.81-2.81c.8-.78.8-2.07 0-2.86zM5.41 20L4 18.59l7.72-7.72 1.47 1.35L5.41 20z\"/>\n",
              "  </svg>\n",
              "      </button>\n",
              "      \n",
              "  <style>\n",
              "    .colab-df-container {\n",
              "      display:flex;\n",
              "      flex-wrap:wrap;\n",
              "      gap: 12px;\n",
              "    }\n",
              "\n",
              "    .colab-df-convert {\n",
              "      background-color: #E8F0FE;\n",
              "      border: none;\n",
              "      border-radius: 50%;\n",
              "      cursor: pointer;\n",
              "      display: none;\n",
              "      fill: #1967D2;\n",
              "      height: 32px;\n",
              "      padding: 0 0 0 0;\n",
              "      width: 32px;\n",
              "    }\n",
              "\n",
              "    .colab-df-convert:hover {\n",
              "      background-color: #E2EBFA;\n",
              "      box-shadow: 0px 1px 2px rgba(60, 64, 67, 0.3), 0px 1px 3px 1px rgba(60, 64, 67, 0.15);\n",
              "      fill: #174EA6;\n",
              "    }\n",
              "\n",
              "    [theme=dark] .colab-df-convert {\n",
              "      background-color: #3B4455;\n",
              "      fill: #D2E3FC;\n",
              "    }\n",
              "\n",
              "    [theme=dark] .colab-df-convert:hover {\n",
              "      background-color: #434B5C;\n",
              "      box-shadow: 0px 1px 3px 1px rgba(0, 0, 0, 0.15);\n",
              "      filter: drop-shadow(0px 1px 2px rgba(0, 0, 0, 0.3));\n",
              "      fill: #FFFFFF;\n",
              "    }\n",
              "  </style>\n",
              "\n",
              "      <script>\n",
              "        const buttonEl =\n",
              "          document.querySelector('#df-d38e0b40-806c-42ca-b341-6871251019c4 button.colab-df-convert');\n",
              "        buttonEl.style.display =\n",
              "          google.colab.kernel.accessAllowed ? 'block' : 'none';\n",
              "\n",
              "        async function convertToInteractive(key) {\n",
              "          const element = document.querySelector('#df-d38e0b40-806c-42ca-b341-6871251019c4');\n",
              "          const dataTable =\n",
              "            await google.colab.kernel.invokeFunction('convertToInteractive',\n",
              "                                                     [key], {});\n",
              "          if (!dataTable) return;\n",
              "\n",
              "          const docLinkHtml = 'Like what you see? Visit the ' +\n",
              "            '<a target=\"_blank\" href=https://colab.research.google.com/notebooks/data_table.ipynb>data table notebook</a>'\n",
              "            + ' to learn more about interactive tables.';\n",
              "          element.innerHTML = '';\n",
              "          dataTable['output_type'] = 'display_data';\n",
              "          await google.colab.output.renderOutput(dataTable, element);\n",
              "          const docLink = document.createElement('div');\n",
              "          docLink.innerHTML = docLinkHtml;\n",
              "          element.appendChild(docLink);\n",
              "        }\n",
              "      </script>\n",
              "    </div>\n",
              "  </div>\n",
              "  "
            ],
            "text/plain": [
              "       Ticker           Date/Time   Open   High    Low  Close  Volume  Year  \\\n",
              "96203     VIC 2020-11-18 13:11:00  103.8  103.9  103.8  103.9    3760  2020   \n",
              "96204     VIC 2020-11-18 13:12:00  103.9  103.9  103.9  103.9      10  2020   \n",
              "96205     VIC 2020-11-18 13:13:00  103.9  103.9  103.5  103.5    1910  2020   \n",
              "96206     VIC 2020-11-18 13:14:00  103.5  103.7  103.2  103.2   11610  2020   \n",
              "96207     VIC 2020-11-18 13:15:00  103.1  103.4  103.1  103.4    7220  2020   \n",
              "...       ...                 ...    ...    ...    ...    ...     ...   ...   \n",
              "101261    VIC 2020-12-22 14:22:00  105.8  105.8  105.7  105.7    1870  2020   \n",
              "101262    VIC 2020-12-22 14:23:00  105.7  105.7  105.7  105.7    2510  2020   \n",
              "101263    VIC 2020-12-22 14:24:00  105.7  105.7  105.7  105.7    3620  2020   \n",
              "101264    VIC 2020-12-22 14:25:00  105.7  105.7  105.7  105.7     100  2020   \n",
              "101265    VIC 2020-12-22 14:46:00  105.7  105.7  105.7  105.7      90  2020   \n",
              "\n",
              "        Predictions  \n",
              "96203    103.789467  \n",
              "96204    103.878128  \n",
              "96205    103.907547  \n",
              "96206    103.646584  \n",
              "96207    103.338478  \n",
              "...             ...  \n",
              "101261   105.740517  \n",
              "101262   105.674965  \n",
              "101263   105.649178  \n",
              "101264   105.642815  \n",
              "101265   105.642517  \n",
              "\n",
              "[5063 rows x 9 columns]"
            ]
          },
          "execution_count": 92,
          "metadata": {},
          "output_type": "execute_result"
        }
      ],
      "source": [
        "valid"
      ]
    },
    {
      "cell_type": "code",
      "execution_count": 93,
      "metadata": {
        "id": "onqU72OXfnQe"
      },
      "outputs": [],
      "source": [
        "valid['Change'] = valid['Predictions'] - valid['Close'].shift()"
      ]
    },
    {
      "cell_type": "code",
      "execution_count": 94,
      "metadata": {
        "colab": {
          "base_uri": "https://localhost:8080/",
          "height": 424
        },
        "id": "aiNqDa5Nfpdq",
        "outputId": "fc3660fd-6e92-4f24-ea02-283df50d435b"
      },
      "outputs": [
        {
          "data": {
            "text/html": [
              "\n",
              "  <div id=\"df-1bb8838a-de2b-452d-95a2-919a376d280e\">\n",
              "    <div class=\"colab-df-container\">\n",
              "      <div>\n",
              "<style scoped>\n",
              "    .dataframe tbody tr th:only-of-type {\n",
              "        vertical-align: middle;\n",
              "    }\n",
              "\n",
              "    .dataframe tbody tr th {\n",
              "        vertical-align: top;\n",
              "    }\n",
              "\n",
              "    .dataframe thead th {\n",
              "        text-align: right;\n",
              "    }\n",
              "</style>\n",
              "<table border=\"1\" class=\"dataframe\">\n",
              "  <thead>\n",
              "    <tr style=\"text-align: right;\">\n",
              "      <th></th>\n",
              "      <th>Ticker</th>\n",
              "      <th>Date/Time</th>\n",
              "      <th>Open</th>\n",
              "      <th>High</th>\n",
              "      <th>Low</th>\n",
              "      <th>Close</th>\n",
              "      <th>Volume</th>\n",
              "      <th>Year</th>\n",
              "      <th>Predictions</th>\n",
              "      <th>Change</th>\n",
              "    </tr>\n",
              "  </thead>\n",
              "  <tbody>\n",
              "    <tr>\n",
              "      <th>96203</th>\n",
              "      <td>VIC</td>\n",
              "      <td>2020-11-18 13:11:00</td>\n",
              "      <td>103.8</td>\n",
              "      <td>103.9</td>\n",
              "      <td>103.8</td>\n",
              "      <td>103.9</td>\n",
              "      <td>3760</td>\n",
              "      <td>2020</td>\n",
              "      <td>103.789467</td>\n",
              "      <td>NaN</td>\n",
              "    </tr>\n",
              "    <tr>\n",
              "      <th>96204</th>\n",
              "      <td>VIC</td>\n",
              "      <td>2020-11-18 13:12:00</td>\n",
              "      <td>103.9</td>\n",
              "      <td>103.9</td>\n",
              "      <td>103.9</td>\n",
              "      <td>103.9</td>\n",
              "      <td>10</td>\n",
              "      <td>2020</td>\n",
              "      <td>103.878128</td>\n",
              "      <td>-0.021872</td>\n",
              "    </tr>\n",
              "    <tr>\n",
              "      <th>96205</th>\n",
              "      <td>VIC</td>\n",
              "      <td>2020-11-18 13:13:00</td>\n",
              "      <td>103.9</td>\n",
              "      <td>103.9</td>\n",
              "      <td>103.5</td>\n",
              "      <td>103.5</td>\n",
              "      <td>1910</td>\n",
              "      <td>2020</td>\n",
              "      <td>103.907547</td>\n",
              "      <td>0.007547</td>\n",
              "    </tr>\n",
              "    <tr>\n",
              "      <th>96206</th>\n",
              "      <td>VIC</td>\n",
              "      <td>2020-11-18 13:14:00</td>\n",
              "      <td>103.5</td>\n",
              "      <td>103.7</td>\n",
              "      <td>103.2</td>\n",
              "      <td>103.2</td>\n",
              "      <td>11610</td>\n",
              "      <td>2020</td>\n",
              "      <td>103.646584</td>\n",
              "      <td>0.146584</td>\n",
              "    </tr>\n",
              "    <tr>\n",
              "      <th>96207</th>\n",
              "      <td>VIC</td>\n",
              "      <td>2020-11-18 13:15:00</td>\n",
              "      <td>103.1</td>\n",
              "      <td>103.4</td>\n",
              "      <td>103.1</td>\n",
              "      <td>103.4</td>\n",
              "      <td>7220</td>\n",
              "      <td>2020</td>\n",
              "      <td>103.338478</td>\n",
              "      <td>0.138478</td>\n",
              "    </tr>\n",
              "    <tr>\n",
              "      <th>...</th>\n",
              "      <td>...</td>\n",
              "      <td>...</td>\n",
              "      <td>...</td>\n",
              "      <td>...</td>\n",
              "      <td>...</td>\n",
              "      <td>...</td>\n",
              "      <td>...</td>\n",
              "      <td>...</td>\n",
              "      <td>...</td>\n",
              "      <td>...</td>\n",
              "    </tr>\n",
              "    <tr>\n",
              "      <th>101261</th>\n",
              "      <td>VIC</td>\n",
              "      <td>2020-12-22 14:22:00</td>\n",
              "      <td>105.8</td>\n",
              "      <td>105.8</td>\n",
              "      <td>105.7</td>\n",
              "      <td>105.7</td>\n",
              "      <td>1870</td>\n",
              "      <td>2020</td>\n",
              "      <td>105.740517</td>\n",
              "      <td>-0.059483</td>\n",
              "    </tr>\n",
              "    <tr>\n",
              "      <th>101262</th>\n",
              "      <td>VIC</td>\n",
              "      <td>2020-12-22 14:23:00</td>\n",
              "      <td>105.7</td>\n",
              "      <td>105.7</td>\n",
              "      <td>105.7</td>\n",
              "      <td>105.7</td>\n",
              "      <td>2510</td>\n",
              "      <td>2020</td>\n",
              "      <td>105.674965</td>\n",
              "      <td>-0.025035</td>\n",
              "    </tr>\n",
              "    <tr>\n",
              "      <th>101263</th>\n",
              "      <td>VIC</td>\n",
              "      <td>2020-12-22 14:24:00</td>\n",
              "      <td>105.7</td>\n",
              "      <td>105.7</td>\n",
              "      <td>105.7</td>\n",
              "      <td>105.7</td>\n",
              "      <td>3620</td>\n",
              "      <td>2020</td>\n",
              "      <td>105.649178</td>\n",
              "      <td>-0.050822</td>\n",
              "    </tr>\n",
              "    <tr>\n",
              "      <th>101264</th>\n",
              "      <td>VIC</td>\n",
              "      <td>2020-12-22 14:25:00</td>\n",
              "      <td>105.7</td>\n",
              "      <td>105.7</td>\n",
              "      <td>105.7</td>\n",
              "      <td>105.7</td>\n",
              "      <td>100</td>\n",
              "      <td>2020</td>\n",
              "      <td>105.642815</td>\n",
              "      <td>-0.057185</td>\n",
              "    </tr>\n",
              "    <tr>\n",
              "      <th>101265</th>\n",
              "      <td>VIC</td>\n",
              "      <td>2020-12-22 14:46:00</td>\n",
              "      <td>105.7</td>\n",
              "      <td>105.7</td>\n",
              "      <td>105.7</td>\n",
              "      <td>105.7</td>\n",
              "      <td>90</td>\n",
              "      <td>2020</td>\n",
              "      <td>105.642517</td>\n",
              "      <td>-0.057483</td>\n",
              "    </tr>\n",
              "  </tbody>\n",
              "</table>\n",
              "<p>5063 rows × 10 columns</p>\n",
              "</div>\n",
              "      <button class=\"colab-df-convert\" onclick=\"convertToInteractive('df-1bb8838a-de2b-452d-95a2-919a376d280e')\"\n",
              "              title=\"Convert this dataframe to an interactive table.\"\n",
              "              style=\"display:none;\">\n",
              "        \n",
              "  <svg xmlns=\"http://www.w3.org/2000/svg\" height=\"24px\"viewBox=\"0 0 24 24\"\n",
              "       width=\"24px\">\n",
              "    <path d=\"M0 0h24v24H0V0z\" fill=\"none\"/>\n",
              "    <path d=\"M18.56 5.44l.94 2.06.94-2.06 2.06-.94-2.06-.94-.94-2.06-.94 2.06-2.06.94zm-11 1L8.5 8.5l.94-2.06 2.06-.94-2.06-.94L8.5 2.5l-.94 2.06-2.06.94zm10 10l.94 2.06.94-2.06 2.06-.94-2.06-.94-.94-2.06-.94 2.06-2.06.94z\"/><path d=\"M17.41 7.96l-1.37-1.37c-.4-.4-.92-.59-1.43-.59-.52 0-1.04.2-1.43.59L10.3 9.45l-7.72 7.72c-.78.78-.78 2.05 0 2.83L4 21.41c.39.39.9.59 1.41.59.51 0 1.02-.2 1.41-.59l7.78-7.78 2.81-2.81c.8-.78.8-2.07 0-2.86zM5.41 20L4 18.59l7.72-7.72 1.47 1.35L5.41 20z\"/>\n",
              "  </svg>\n",
              "      </button>\n",
              "      \n",
              "  <style>\n",
              "    .colab-df-container {\n",
              "      display:flex;\n",
              "      flex-wrap:wrap;\n",
              "      gap: 12px;\n",
              "    }\n",
              "\n",
              "    .colab-df-convert {\n",
              "      background-color: #E8F0FE;\n",
              "      border: none;\n",
              "      border-radius: 50%;\n",
              "      cursor: pointer;\n",
              "      display: none;\n",
              "      fill: #1967D2;\n",
              "      height: 32px;\n",
              "      padding: 0 0 0 0;\n",
              "      width: 32px;\n",
              "    }\n",
              "\n",
              "    .colab-df-convert:hover {\n",
              "      background-color: #E2EBFA;\n",
              "      box-shadow: 0px 1px 2px rgba(60, 64, 67, 0.3), 0px 1px 3px 1px rgba(60, 64, 67, 0.15);\n",
              "      fill: #174EA6;\n",
              "    }\n",
              "\n",
              "    [theme=dark] .colab-df-convert {\n",
              "      background-color: #3B4455;\n",
              "      fill: #D2E3FC;\n",
              "    }\n",
              "\n",
              "    [theme=dark] .colab-df-convert:hover {\n",
              "      background-color: #434B5C;\n",
              "      box-shadow: 0px 1px 3px 1px rgba(0, 0, 0, 0.15);\n",
              "      filter: drop-shadow(0px 1px 2px rgba(0, 0, 0, 0.3));\n",
              "      fill: #FFFFFF;\n",
              "    }\n",
              "  </style>\n",
              "\n",
              "      <script>\n",
              "        const buttonEl =\n",
              "          document.querySelector('#df-1bb8838a-de2b-452d-95a2-919a376d280e button.colab-df-convert');\n",
              "        buttonEl.style.display =\n",
              "          google.colab.kernel.accessAllowed ? 'block' : 'none';\n",
              "\n",
              "        async function convertToInteractive(key) {\n",
              "          const element = document.querySelector('#df-1bb8838a-de2b-452d-95a2-919a376d280e');\n",
              "          const dataTable =\n",
              "            await google.colab.kernel.invokeFunction('convertToInteractive',\n",
              "                                                     [key], {});\n",
              "          if (!dataTable) return;\n",
              "\n",
              "          const docLinkHtml = 'Like what you see? Visit the ' +\n",
              "            '<a target=\"_blank\" href=https://colab.research.google.com/notebooks/data_table.ipynb>data table notebook</a>'\n",
              "            + ' to learn more about interactive tables.';\n",
              "          element.innerHTML = '';\n",
              "          dataTable['output_type'] = 'display_data';\n",
              "          await google.colab.output.renderOutput(dataTable, element);\n",
              "          const docLink = document.createElement('div');\n",
              "          docLink.innerHTML = docLinkHtml;\n",
              "          element.appendChild(docLink);\n",
              "        }\n",
              "      </script>\n",
              "    </div>\n",
              "  </div>\n",
              "  "
            ],
            "text/plain": [
              "       Ticker           Date/Time   Open   High    Low  Close  Volume  Year  \\\n",
              "96203     VIC 2020-11-18 13:11:00  103.8  103.9  103.8  103.9    3760  2020   \n",
              "96204     VIC 2020-11-18 13:12:00  103.9  103.9  103.9  103.9      10  2020   \n",
              "96205     VIC 2020-11-18 13:13:00  103.9  103.9  103.5  103.5    1910  2020   \n",
              "96206     VIC 2020-11-18 13:14:00  103.5  103.7  103.2  103.2   11610  2020   \n",
              "96207     VIC 2020-11-18 13:15:00  103.1  103.4  103.1  103.4    7220  2020   \n",
              "...       ...                 ...    ...    ...    ...    ...     ...   ...   \n",
              "101261    VIC 2020-12-22 14:22:00  105.8  105.8  105.7  105.7    1870  2020   \n",
              "101262    VIC 2020-12-22 14:23:00  105.7  105.7  105.7  105.7    2510  2020   \n",
              "101263    VIC 2020-12-22 14:24:00  105.7  105.7  105.7  105.7    3620  2020   \n",
              "101264    VIC 2020-12-22 14:25:00  105.7  105.7  105.7  105.7     100  2020   \n",
              "101265    VIC 2020-12-22 14:46:00  105.7  105.7  105.7  105.7      90  2020   \n",
              "\n",
              "        Predictions    Change  \n",
              "96203    103.789467       NaN  \n",
              "96204    103.878128 -0.021872  \n",
              "96205    103.907547  0.007547  \n",
              "96206    103.646584  0.146584  \n",
              "96207    103.338478  0.138478  \n",
              "...             ...       ...  \n",
              "101261   105.740517 -0.059483  \n",
              "101262   105.674965 -0.025035  \n",
              "101263   105.649178 -0.050822  \n",
              "101264   105.642815 -0.057185  \n",
              "101265   105.642517 -0.057483  \n",
              "\n",
              "[5063 rows x 10 columns]"
            ]
          },
          "execution_count": 94,
          "metadata": {},
          "output_type": "execute_result"
        }
      ],
      "source": [
        "valid"
      ]
    },
    {
      "cell_type": "markdown",
      "metadata": {
        "id": "EQO6HNx9MGTY"
      },
      "source": [
        "This function uses the LSTM model trained on historical stock price data to predict future stock prices. It takes in the following parameters:\n",
        "\n",
        "* `data`: a Pandas DataFrame containing the historical stock price data\n",
        "\n",
        "* `time_frame`: a string indicating the time frame for the prediction, which can be one of 'hour', 'day', 'week', or 'month'\n",
        "\n",
        "* `num_units`: an integer indicating the number of time units to predict into the future"
      ]
    },
    {
      "cell_type": "code",
      "execution_count": 95,
      "metadata": {
        "id": "APyFqP-9slLl"
      },
      "outputs": [],
      "source": [
        "def predict_stock_price(data, time_frame, num_units):\n",
        "    new_df = data.filter(['Close'])\n",
        "    last_num_days = {'hour': 24, 'day': 60, 'week': 7*60, 'month': 30*60}[time_frame]\n",
        "    last_prices = new_df[-last_num_days:].values\n",
        "    last_prices_reshaped = last_prices.reshape(-1, 1)\n",
        "    scaler = MinMaxScaler(feature_range=(0, 1))\n",
        "    last_prices_scaled = scaler.fit_transform(last_prices_reshaped)\n",
        "    last_prices_scaled_reshaped = last_prices_scaled.reshape(1, -1, 1)\n",
        "    model = load_model('lstm_model.h5')\n",
        "    predicted_prices = []\n",
        "    latest_price = data.loc[data['Date/Time'].idxmax(), 'Close']\n",
        "    for i in range(num_units):\n",
        "        if i == 0:\n",
        "            predicted_price = model.predict(last_prices_scaled_reshaped)\n",
        "        else:\n",
        "            last_prices = np.append(last_prices[1:], predicted_price)\n",
        "            last_prices_reshaped = last_prices.reshape(-1, 1)\n",
        "            last_prices_scaled = scaler.transform(last_prices_reshaped)\n",
        "            last_prices_scaled_reshaped = last_prices_scaled.reshape(1, -1, 1)\n",
        "            predicted_price = model.predict(last_prices_scaled_reshaped)\n",
        "        predicted_price = scaler.inverse_transform(predicted_price)\n",
        "        target_date = data['Date/Time'].max().date() + timedelta(**{time_frame + 's': i+1})\n",
        "        change = predicted_price[0][0] - latest_price\n",
        "        predicted_prices.append({'Date': target_date, 'Price': predicted_price[0][0], 'Change': change})\n",
        "    return pd.DataFrame(predicted_prices)\n"
      ]
    },
    {
      "cell_type": "code",
      "execution_count": 96,
      "metadata": {
        "colab": {
          "base_uri": "https://localhost:8080/"
        },
        "id": "1EpD93xBsn_W",
        "outputId": "33e1005e-6d84-4794-c2ef-66f1baab40c1"
      },
      "outputs": [
        {
          "name": "stdout",
          "output_type": "stream",
          "text": [
            "1/1 [==============================] - 1s 1s/step\n",
            "1/1 [==============================] - 0s 53ms/step\n",
            "1/1 [==============================] - 0s 50ms/step\n",
            "1/1 [==============================] - 0s 35ms/step\n",
            "1/1 [==============================] - 0s 36ms/step\n",
            "1/1 [==============================] - 0s 46ms/step\n",
            "1/1 [==============================] - 0s 34ms/step\n",
            "1/1 [==============================] - 0s 35ms/step\n",
            "1/1 [==============================] - 0s 33ms/step\n",
            "1/1 [==============================] - 0s 33ms/step\n",
            "1/1 [==============================] - 0s 32ms/step\n",
            "1/1 [==============================] - 0s 33ms/step\n",
            "1/1 [==============================] - 0s 36ms/step\n",
            "1/1 [==============================] - 0s 34ms/step\n",
            "1/1 [==============================] - 0s 36ms/step\n"
          ]
        }
      ],
      "source": [
        "predicted_prices = predict_stock_price(data, time_frame='day', num_units=15)"
      ]
    },
    {
      "cell_type": "code",
      "execution_count": 97,
      "metadata": {
        "colab": {
          "base_uri": "https://localhost:8080/"
        },
        "id": "20TGC5dEzoEF",
        "outputId": "0c732c29-3af8-40aa-878c-6e918576c4cb"
      },
      "outputs": [
        {
          "name": "stdout",
          "output_type": "stream",
          "text": [
            "          Date       Price    Change\n",
            "0   2020-12-23  105.697426 -0.002574\n",
            "1   2020-12-24  105.696785 -0.003215\n",
            "2   2020-12-25  105.696411 -0.003589\n",
            "3   2020-12-26  105.696381 -0.003619\n",
            "4   2020-12-27  105.696625 -0.003375\n",
            "5   2020-12-28  105.697075 -0.002925\n",
            "6   2020-12-29  105.697670 -0.002330\n",
            "7   2020-12-30  105.698364 -0.001636\n",
            "8   2020-12-31  105.699135 -0.000865\n",
            "9   2021-01-01  105.699936 -0.000064\n",
            "10  2021-01-02  105.700768  0.000768\n",
            "11  2021-01-03  105.701614  0.001614\n",
            "12  2021-01-04  105.702454  0.002454\n",
            "13  2021-01-05  105.703293  0.003293\n",
            "14  2021-01-06  105.704124  0.004124\n"
          ]
        }
      ],
      "source": [
        "print(predicted_prices)"
      ]
    },
    {
      "cell_type": "markdown",
      "metadata": {
        "id": "RvDhaceeMavZ"
      },
      "source": [
        "### Plot the predicted stock prices with their dates and changes"
      ]
    },
    {
      "cell_type": "code",
      "execution_count": 98,
      "metadata": {
        "colab": {
          "base_uri": "https://localhost:8080/",
          "height": 611
        },
        "id": "IS7gIGym-YzD",
        "outputId": "3521d390-020c-4d97-cf72-27456ed949df"
      },
      "outputs": [
        {
          "data": {
            "image/png": "[encoded data removed]",
            "text/plain": [
              "<Figure size 864x576 with 1 Axes>"
            ]
          },
          "metadata": {},
          "output_type": "display_data"
        }
      ],
      "source": [
        "fig, ax = plt.subplots(figsize=(12, 8))\n",
        "ax.plot(predicted_prices['Date'], predicted_prices['Price'], color='blue', label='Predicted Price')\n",
        "ax.set_xlabel('Date')\n",
        "ax.set_ylabel('Price')\n",
        "ax.set_title('Predicted Stock Prices')\n",
        "ax.tick_params(axis='x', labelrotation=45)\n",
        "for i, row in predicted_prices.iterrows():\n",
        "    ax.text(row['Date'], row['Price'] + 0.000005*max(predicted_prices['Price']), format(row['Change'], '.4f'), ha='center', va='center', color='green' if row['Change'] > 0 else 'red')\n",
        "plt.show()\n"
      ]
    }
  ],
  "metadata": {
    "colab": {
      "provenance": []
    },
    "kernelspec": {
      "display_name": "Python 3",
      "name": "python3"
    },
    "language_info": {
      "name": "python"
    }
  },
  "nbformat": 4,
  "nbformat_minor": 0
}
